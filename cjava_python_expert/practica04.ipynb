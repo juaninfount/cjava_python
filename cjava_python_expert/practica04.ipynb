{
  "nbformat": 4,
  "nbformat_minor": 0,
  "metadata": {
    "colab": {
      "name": "practica04.ipynb",
      "provenance": [],
      "collapsed_sections": []
    },
    "kernelspec": {
      "name": "python3",
      "display_name": "Python 3"
    },
    "accelerator": "GPU"
  },
  "cells": [
    {
      "cell_type": "markdown",
      "metadata": {
        "id": "DaaJCxwdUR-c"
      },
      "source": [
        "# Clasificación de figuras MNIST con Redes Neuronales Convolucionales  \r\n",
        "# Deep Learning\r\n"
      ]
    },
    {
      "cell_type": "markdown",
      "metadata": {
        "id": "CCD0n-7bUOD_"
      },
      "source": [
        "1) Importamos las siguientes biblotecas para deep learning: \r\n",
        "\r\n",
        "*   *tensorflow*, keras de tensorflow\r\n",
        "*   *Conv2D* (capa convolucional de 2D)\r\n",
        "*   *MaxPooling2D* (operacion Max pooling para data espacial 2D)\r\n",
        "*   *Dropout* (aplica 0 a las entradas para prevenir overfitting)\r\n",
        "*   *Flatten* (Aplanamiento de curva)\r\n",
        "*   *Dense* (para la capa de salida)\r\n",
        "*   *Numpy* (para operar con arrays)\r\n",
        "*   *os, sys* (para interactuar con el sistema operativo)\r\n",
        "*   *matplotlib* ( para graficado dentro de la linea de ejecucion de comando), al igual que *pandas*\r\n",
        "\r\n",
        "Verificar version de tf"
      ]
    },
    {
      "cell_type": "code",
      "metadata": {
        "id": "W5NYo684T8oo",
        "colab": {
          "base_uri": "https://localhost:8080/"
        },
        "outputId": "fbe30a1e-bb60-4689-cb63-b877f5fefffc"
      },
      "source": [
        "import tensorflow as tf\r\n",
        "from tensorflow import keras\r\n",
        "from tensorflow.keras.layers import Conv2D, MaxPooling2D, Dropout, Flatten, Dense\r\n",
        "import numpy as np\r\n",
        "import os\r\n",
        "import sys\r\n",
        "import matplotlib.pyplot as plt\r\n",
        "import pandas as pd\r\n",
        "%matplotlib inline\r\n",
        "print(tf.__version__)"
      ],
      "execution_count": null,
      "outputs": [
        {
          "output_type": "stream",
          "text": [
            "2.4.1\n"
          ],
          "name": "stdout"
        }
      ]
    },
    {
      "cell_type": "markdown",
      "metadata": {
        "id": "HEOMKZFk_lN1"
      },
      "source": [
        "2) Ahora, cargamos el dataset MNIST. Las imagenes son matrices NumPy de 28x28, con valores de píxeles que oscilan entre 0 y 255. \r\n",
        "Las etiquetas son una matriz de números enteros, que van de 0 a 9. La tarea es tomar una de estas imagenes como entrada y predecir el digito mas probable \r\n",
        "contenido en la imagen (junto con una confianza relativa en esta prediccion):"
      ]
    },
    {
      "cell_type": "code",
      "metadata": {
        "id": "oQ4kioSB9IHx"
      },
      "source": [
        "(train_images, train_labels), (test_images, test_labels) = keras.datasets.mnist.load_data()\r\n",
        "\r\n",
        "# cambiar forma de imagenes para especificar que se encuentra en un canal simple\r\n",
        "train_images = train_images.reshape(train_images.shape[0], 28, 28, 1)\r\n",
        "test_images  = test_images.reshape( test_images.shape[0] , 28, 28, 1)"
      ],
      "execution_count": null,
      "outputs": []
    },
    {
      "cell_type": "markdown",
      "metadata": {
        "id": "8Tr77EZe_yIf"
      },
      "source": [
        "3) Normalizar valores a un rango de 0 a 1 .Es importante que el conjunto de entrenamiento y el conjunto de pruebas se preprocesen de la misma manera:"
      ]
    },
    {
      "cell_type": "code",
      "metadata": {
        "id": "LMi0v0tP_n6B"
      },
      "source": [
        "def preprocess_images(imgs): # tanto para imagenes simples y multiples\r\n",
        "    sample_img = imgs if len(imgs.shape) == 2 else imgs[0]\r\n",
        "    assert sample_img.shape in [(28, 28, 1), (28, 28)], sample_img.shape # asegurar imagenes son 28x28 y en escala de grises\r\n",
        "    return imgs / 255.0\r\n",
        "\r\n",
        "train_images = preprocess_images(train_images)\r\n",
        "test_images  = preprocess_images(test_images)"
      ],
      "execution_count": null,
      "outputs": []
    },
    {
      "cell_type": "markdown",
      "metadata": {
        "id": "NovoZNOgCFOM"
      },
      "source": [
        "4) Desplegar las primeras 5 imagenes del conjunto de entrenamiento y mostrar el nombre de la clase debajo de cada imagen. Se verifica que los datos esten en el formato correcto\r\n",
        "\r\n",
        "\r\n"
      ]
    },
    {
      "cell_type": "code",
      "metadata": {
        "colab": {
          "base_uri": "https://localhost:8080/",
          "height": 141
        },
        "id": "F5ui7mcxCphu",
        "outputId": "b7ace4c1-aa0d-4c43-afda-eb1b93e6c67f"
      },
      "source": [
        "plt.figure(figsize=(10,2)) # ploting en 10,2 pixeles\r\n",
        "for i in range(5):\r\n",
        "    plt.subplot(1,5,i+1) # fila 1, columna 5, iteracion i + 1\r\n",
        "    plt.xticks([]) # ocultar escalas en eje x\r\n",
        "    plt.yticks([]) # ocultar escalas en eje x\r\n",
        "    plt.grid(False) # quitar malla\r\n",
        "    plt.imshow(train_images[i].reshape(28, 28), cmap=plt.cm.binary)  # mostrar imagenes con mapa de caracteres binarios\r\n",
        "    plt.xlabel(train_labels[i]) # mostrar nombre etiquetas en etiqueta x de cada imagen"
      ],
      "execution_count": null,
      "outputs": [
        {
          "output_type": "display_data",
          "data": {
            "image/png": "[encoded data removed]",
            "text/plain": [
              "<Figure size 720x144 with 5 Axes>"
            ]
          },
          "metadata": {
            "tags": []
          }
        }
      ]
    },
    {
      "cell_type": "markdown",
      "metadata": {
        "id": "rUYxgogBEq9l"
      },
      "source": [
        "5) Construimos el modelo secuencial. La construcción de la red neuronal requiere configurar las capas del modelo y luego compilar el modelo. En muchos casos, esto se puede reducir a simplemente apilar todas las capas juntas:"
      ]
    },
    {
      "cell_type": "code",
      "metadata": {
        "id": "z-qdoTETE7xJ"
      },
      "source": [
        "model = keras.Sequential()\r\n",
        "# capa convolucional: 32 filtros convolucionales cada uno de tamanho 3x3, con funcion de activacion relu\r\n",
        "model.add(Conv2D(32, kernel_size=(3, 3), activation='relu', input_shape=(28, 28, 1)))\r\n",
        "\r\n",
        "# capa convolucional: 64 filtros convolucionales  cada uno de tamanho 3x3, con funcion de activacion relu\r\n",
        "model.add(Conv2D(64, (3, 3), activation='relu'))\r\n",
        "\r\n",
        "# escoger las mejores caracteristicas via pooling\r\n",
        "model.add(MaxPooling2D(pool_size=(2, 2)))\r\n",
        "\r\n",
        "# aleatoriamente apagar y encender neuronas para mejorar convergencia\r\n",
        "model.add(Dropout(0.25))\r\n",
        "\r\n",
        "# aplanar curva dado que solo queremos una entrada de clasificacion\r\n",
        "model.add(Flatten())\r\n",
        "\r\n",
        "# capa densa, conectan cada neurona en una capa con todas las salidas de la capa anterior. Para los datos de salida\r\n",
        "model.add(Dense(128, activation='relu'))\r\n",
        "\r\n",
        "# dropout adicional\r\n",
        "model.add(Dropout(0.5))\r\n",
        "\r\n",
        "# aplicar funcion softmax para aplastar la matriz\r\n",
        "model.add(Dense(10, activation='softmax'))"
      ],
      "execution_count": null,
      "outputs": []
    },
    {
      "cell_type": "markdown",
      "metadata": {
        "id": "zNWYwr1rJtpi"
      },
      "source": [
        "6) Se agregan configuraciones adicionales:\r\n",
        "\r\n",
        "*   Funcion de perdida: mide la precision del modelo durante el entrenamiento; queremos minimizar esto con el optimizador.\r\n",
        "*   Optimizador: como el modelo se actualiza en función de los datos que ve y su función de perdida (optimizador de adam).\r\n",
        "*   Metricas: se utilizan para monitorear los pasos de entrenamiento y prueba. \"accuracy\" es la fraccion de imagenes que se clasifican correctamente\r\n",
        "\r\n"
      ]
    },
    {
      "cell_type": "code",
      "metadata": {
        "id": "2qFL5U7XJ9lU"
      },
      "source": [
        "model.compile(optimizer = tf.optimizers.Adam(), \r\n",
        "              loss ='sparse_categorical_crossentropy',\r\n",
        "              metrics = ['accuracy'])"
      ],
      "execution_count": null,
      "outputs": []
    },
    {
      "cell_type": "markdown",
      "metadata": {
        "id": "SHRx9ov0LiWf"
      },
      "source": [
        "7) Entrenar el modelo de red neuronal requiere los siguientes pasos:\r\n",
        "\r\n",
        "*   Se ingresa los datos de entrenamiento en el modelo: las matrices train_images y train_labels\r\n",
        "*   El modelo aprende a asociar imagenes y etiquetas (5 epocas).\r\n",
        "*   Le pedimos al modelo que haga predicciones sobre un conjunto de prueba, en este ejemplo, la matriz test_images. Verificamos que las predicciones coincidan con las etiquetas de la matriz test_labels.\r\n",
        "\r\n",
        "Para comenzar el entrenamiento, llamamos al metodo model.fit: el modelo se \"ajusta\" a los datos de entrenamiento:"
      ]
    },
    {
      "cell_type": "code",
      "metadata": {
        "colab": {
          "base_uri": "https://localhost:8080/"
        },
        "id": "Ob85pY5qNgzt",
        "outputId": "1f3b5cfb-ff20-414b-eb4e-0b27bae44103"
      },
      "source": [
        "history = model.fit(train_images, train_labels, epochs=5)"
      ],
      "execution_count": null,
      "outputs": [
        {
          "output_type": "stream",
          "text": [
            "Epoch 1/5\n",
            "1875/1875 [==============================] - 6s 3ms/step - loss: 0.3826 - accuracy: 0.8788\n",
            "Epoch 2/5\n",
            "1875/1875 [==============================] - 5s 3ms/step - loss: 0.0871 - accuracy: 0.9738\n",
            "Epoch 3/5\n",
            "1875/1875 [==============================] - 5s 3ms/step - loss: 0.0660 - accuracy: 0.9809\n",
            "Epoch 4/5\n",
            "1875/1875 [==============================] - 5s 3ms/step - loss: 0.0520 - accuracy: 0.9835\n",
            "Epoch 5/5\n",
            "1875/1875 [==============================] - 5s 3ms/step - loss: 0.0468 - accuracy: 0.9861\n"
          ],
          "name": "stdout"
        }
      ]
    },
    {
      "cell_type": "markdown",
      "metadata": {
        "id": "iatqVNDSP_A3"
      },
      "source": [
        "A medida que el modelo se entrena, se muestran las métricas de pérdida y precisión. Este modelo alcanza una precisión de aproximadamente el 98% en los datos de entrenamiento.\r\n"
      ]
    },
    {
      "cell_type": "markdown",
      "metadata": {
        "id": "sUk1lkinPRa8"
      },
      "source": [
        "8) Evaluar la precisión\r\n",
        "A continuación, compare el rendimiento del modelo en el conjunto de datos de prueba:"
      ]
    },
    {
      "cell_type": "code",
      "metadata": {
        "colab": {
          "base_uri": "https://localhost:8080/"
        },
        "id": "q7t8ENZ6Petp",
        "outputId": "c5703093-2473-4cc9-d6a0-5ec12fcd3885"
      },
      "source": [
        "print(test_images.shape)\r\n",
        "test_loss, test_acc = model.evaluate(test_images, test_labels)\r\n",
        "\r\n",
        "print('Test de precision (accuracy):', test_acc)\r\n",
        "print('Test de precision (accuracy): {:.2f}%'.format(round(test_acc*100,2))  )"
      ],
      "execution_count": null,
      "outputs": [
        {
          "output_type": "stream",
          "text": [
            "(10000, 28, 28, 1)\n",
            "313/313 [==============================] - 1s 2ms/step - loss: 0.0316 - accuracy: 0.9899\n",
            "Test de precision (accuracy): 0.9898999929428101\n",
            "Test de precision (accuracy): 98.99%\n"
          ],
          "name": "stdout"
        }
      ]
    }
  ]
}
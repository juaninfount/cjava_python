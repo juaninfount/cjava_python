{
 "cells": [
  {
   "cell_type": "markdown",
   "metadata": {},
   "source": [
    "# 1. Importación de paquetes"
   ]
  },
  {
   "cell_type": "code",
   "execution_count": 12,
   "metadata": {},
   "outputs": [],
   "source": [
    "import numpy as np\n",
    "import matplotlib.pyplot as plt"
   ]
  },
  {
   "cell_type": "markdown",
   "metadata": {},
   "source": [
    "# 2. Definir la clase perceptrón"
   ]
  },
  {
   "cell_type": "markdown",
   "metadata": {},
   "source": [
    "$ y = step(\\sum_{i}w_{i}*x_{i}) $\n",
    "\n",
    "$ w_{i}=w_{i}+\\alpha*(y_{d}-y)*x_{i} $"
   ]
  },
  {
   "cell_type": "markdown",
   "metadata": {},
   "source": [
    "# 3. Creación del objeto, un perceptrón de tres entradas"
   ]
  },
  {
   "cell_type": "code",
   "execution_count": 13,
   "metadata": {},
   "outputs": [],
   "source": [
    "class perceptron:\n",
    "    def __init__(self, n):\n",
    "        self.pesos = np.random.random(n)\n",
    "        self.n = n\n",
    "        \n",
    "    def propagacion(self, entradas):\n",
    "        shttp://localhost:8888/notebooks/source/jupiter/20201018_001_perceptron/perceptron.ipynb#elf.salida = 1*(self.pesos.dot(entradas) > 0)\n",
    "        self.entradas = entradas\n",
    "        \n",
    "    def actualizacion(self, alfa, salida):\n",
    "        for i in range(0, self.n):\n",
    "            self.pesos[i]=self.pesos[i] + alfa*(salida-self.salida)*self.entradas[i]\n",
    "                    "
   ]
  },
  {
   "cell_type": "code",
   "execution_count": 14,
   "metadata": {},
   "outputs": [],
   "source": [
    "perceptron_tres_entradas = perceptron(3)"
   ]
  },
  {
   "cell_type": "code",
   "execution_count": 15,
   "metadata": {},
   "outputs": [
    {
     "data": {
      "text/plain": [
       "array([0.11161923, 0.61951872, 0.77159879])"
      ]
     },
     "execution_count": 15,
     "metadata": {},
     "output_type": "execute_result"
    }
   ],
   "source": [
    "perceptron_tres_entradas.pesos"
   ]
  },
  {
   "cell_type": "markdown",
   "metadata": {},
   "source": [
    "# 4. Pasada hacia adelante"
   ]
  },
  {
   "cell_type": "code",
   "execution_count": 17,
   "metadata": {},
   "outputs": [
    {
     "data": {
      "text/plain": [
       "1"
      ]
     },
     "execution_count": 17,
     "metadata": {},
     "output_type": "execute_result"
    }
   ],
   "source": [
    "perceptron_tres_entradas.propagacion([1,0,1])\n",
    "perceptron_tres_entradas.salida"
   ]
  },
  {
   "cell_type": "markdown",
   "metadata": {},
   "source": [
    "# 5. Actualización"
   ]
  },
  {
   "cell_type": "code",
   "execution_count": 19,
   "metadata": {},
   "outputs": [
    {
     "data": {
      "text/plain": [
       "array([0.11161923, 0.61951872, 0.77159879])"
      ]
     },
     "execution_count": 19,
     "metadata": {},
     "output_type": "execute_result"
    }
   ],
   "source": [
    "perceptron_tres_entradas.actualizacion(0.5, 1)\n",
    "perceptron_tres_entradas.pesos"
   ]
  },
  {
   "cell_type": "markdown",
   "metadata": {},
   "source": [
    "# 6. Ejemplo completo: Aprendizaje función lógica AND"
   ]
  },
  {
   "cell_type": "code",
   "execution_count": 23,
   "metadata": {},
   "outputs": [],
   "source": [
    "perceptron_and = perceptron(3)\n",
    "ejemplos = np.array([[0,0,1,0],[0,1,1,0],[1,0,1,0],[1,1,1,1]])\n",
    "grad_pesos = [perceptron_and.pesos]\n",
    "for epoca in range(0,100):\n",
    "    for i in range(0,4):\n",
    "        perceptron_and.propagacion(ejemplos[i,0:3])\n",
    "        perceptron_and.actualizacion(0.5, ejemplos[i,3])\n",
    "        grad_pesos=np.concatenate((grad_pesos,[perceptron_and.pesos]),axis=0)"
   ]
  },
  {
   "cell_type": "code",
   "execution_count": 24,
   "metadata": {},
   "outputs": [
    {
     "data": {
      "text/plain": [
       "[<matplotlib.lines.Line2D at 0x1e17bea4748>]"
      ]
     },
     "execution_count": 24,
     "metadata": {},
     "output_type": "execute_result"
    },
    {
     "data": {
      "image/png": "[encoded data removed]",
      "text/plain": [
       "<Figure size 432x288 with 1 Axes>"
      ]
     },
     "metadata": {
      "needs_background": "light"
     },
     "output_type": "display_data"
    }
   ],
   "source": [
    "plt.plot(grad_pesos[:,0],'k')\n",
    "plt.plot(grad_pesos[:,1],'r')\n",
    "plt.plot(grad_pesos[:,2],'b')"
   ]
  },
  {
   "cell_type": "code",
   "execution_count": null,
   "metadata": {},
   "outputs": [],
   "source": []
  }
 ],
 "metadata": {
  "kernelspec": {
   "display_name": "Python 3",
   "language": "python",
   "name": "python3"
  },
  "language_info": {
   "codemirror_mode": {
    "name": "ipython",
    "version": 3
   },
   "file_extension": ".py",
   "mimetype": "text/x-python",
   "name": "python",
   "nbconvert_exporter": "python",
   "pygments_lexer": "ipython3",
   "version": "3.7.6"
  }
 },
 "nbformat": 4,
 "nbformat_minor": 4
}

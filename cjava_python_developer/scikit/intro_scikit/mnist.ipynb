{
 "cells": [
  {
   "source": [
    "# scikit lab - Hands-on ML\n",
    "## Chapter 3"
   ],
   "cell_type": "markdown",
   "metadata": {}
  },
  {
   "cell_type": "code",
   "execution_count": 1,
   "metadata": {},
   "outputs": [],
   "source": [
    "from sklearn.datasets import fetch_openml\n",
    "from sklearn import datasets, linear_model\n",
    "import matplotlib as mpl\n",
    "import matplotlib.pyplot as plt\n",
    "import numpy as np"
   ]
  },
  {
   "cell_type": "code",
   "execution_count": 2,
   "metadata": {},
   "outputs": [
    {
     "output_type": "execute_result",
     "data": {
      "text/plain": [
       "dict_keys(['data', 'target', 'frame', 'feature_names', 'target_names', 'DESCR', 'details', 'categories', 'url'])"
      ]
     },
     "metadata": {},
     "execution_count": 2
    }
   ],
   "source": [
    "# las matrices de imagenes de 28x28 se reforman en arreglos unidimensionales: 28x28 = 784\n",
    "\n",
    "# MNIST dataset, which is a set of 70,000 small\n",
    "# images of digits handwritten by high school students and employees of the US Census Bureau\n",
    "mnist = fetch_openml('mnist_784', version=1)\n",
    "mnist.keys()"
   ]
  },
  {
   "cell_type": "code",
   "execution_count": 3,
   "metadata": {},
   "outputs": [
    {
     "output_type": "execute_result",
     "data": {
      "text/plain": [
       "(70000, 784)"
      ]
     },
     "metadata": {},
     "execution_count": 3
    }
   ],
   "source": [
    "X, y = mnist['data'], mnist['target']\n",
    "X.shape # X (imagenes, caracteristicas)  y (imagenes objetivo: valor que representan)"
   ]
  },
  {
   "cell_type": "code",
   "execution_count": 4,
   "metadata": {},
   "outputs": [
    {
     "output_type": "execute_result",
     "data": {
      "text/plain": [
       "(70000,)"
      ]
     },
     "metadata": {},
     "execution_count": 4
    }
   ],
   "source": [
    "y.shape"
   ]
  },
  {
   "cell_type": "code",
   "execution_count": 5,
   "metadata": {},
   "outputs": [
    {
     "output_type": "display_data",
     "data": {
      "text/plain": "<Figure size 432x288 with 1 Axes>",
      "image/svg+xml": "<?xml version=\"1.0\" encoding=\"utf-8\" standalone=\"no\"?>\r\n<!DOCTYPE svg PUBLIC \"-//W3C//DTD SVG 1.1//EN\"\r\n  \"http://www.w3.org/Graphics/SVG/1.1/DTD/svg11.dtd\">\r\n<!-- Created with matplotlib (https://matplotlib.org/) -->\r\n<svg height=\"231.84pt\" version=\"1.1\" viewBox=\"0 0 231.84 231.84\" width=\"231.84pt\" xmlns=\"http://www.w3.org/2000/svg\" xmlns:xlink=\"http://www.w3.org/1999/xlink\">\r\n <defs>\r\n  <style type=\"text/css\">\r\n*{stroke-linecap:butt;stroke-linejoin:round;}\r\n  </style>\r\n </defs>\r\n <g id=\"figure_1\">\r\n  <g id=\"patch_1\">\r\n   <path d=\"M 0 231.84 \r\nL 231.84 231.84 \r\nL 231.84 0 \r\nL 0 0 \r\nz\r\n\" style=\"fill:none;\"/>\r\n  </g>\r\n  <g id=\"axes_1\">\r\n   <g clip-path=\"url(#pec1c573030)\">\r\n    <image height=\"218\" id=\"imageeff3344a1c\" transform=\"scale(1 -1)translate(0 -218)\" width=\"218\" x=\"7.2\" xlink:href=\"data:image/png;base64,\r\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\" y=\"-6.64\"/>\r\n   </g>\r\n  </g>\r\n </g>\r\n <defs>\r\n  <clipPath id=\"pec1c573030\">\r\n   <rect height=\"217.44\" width=\"217.44\" x=\"7.2\" y=\"7.2\"/>\r\n  </clipPath>\r\n </defs>\r\n</svg>\r\n",
      "image/png": "[encoded data removed]"
     },
     "metadata": {
      "needs_background": "light"
     }
    }
   ],
   "source": [
    "some_digit = X[0] # primera del arreglo\n",
    "some_digit_image = some_digit.reshape(28,28)\n",
    "plt.imshow(some_digit_image, cmap='binary')\n",
    "plt.axis('off')\n",
    "plt.show()"
   ]
  },
  {
   "cell_type": "code",
   "execution_count": 6,
   "metadata": {},
   "outputs": [
    {
     "output_type": "execute_result",
     "data": {
      "text/plain": [
       "('5', '0')"
      ]
     },
     "metadata": {},
     "execution_count": 6
    }
   ],
   "source": [
    "# X[0], X[1] ....arreglo de imagen 0, arreglo de imagen 1\n",
    "y[0], y[1] # ... valor 0, valor 1 "
   ]
  },
  {
   "cell_type": "code",
   "execution_count": 7,
   "metadata": {},
   "outputs": [
    {
     "output_type": "execute_result",
     "data": {
      "text/plain": [
       "5"
      ]
     },
     "metadata": {},
     "execution_count": 7
    }
   ],
   "source": [
    "# castear y a enteros\n",
    "y = y.astype(np.uint8)\n",
    "y[0]"
   ]
  },
  {
   "cell_type": "code",
   "execution_count": 8,
   "metadata": {},
   "outputs": [],
   "source": [
    "# The MNIST dataset is actually already split into a training set (the first 60,000 images) and a test set (the last 10,000 images):\n",
    "X_train, X_test, y_train, y_test = X[:60000], X[60000:], y[:60000], y[60000:]"
   ]
  },
  {
   "cell_type": "code",
   "execution_count": 14,
   "metadata": {},
   "outputs": [],
   "source": [
    "# dos clases: con numero 5, sin numero 5\n",
    "y_train_5 = (y_train == 5)\n",
    "y_test_5  = (y_test  == 5)"
   ]
  },
  {
   "source": [
    "## Clasificador Stochastic Gradient Descent"
   ],
   "cell_type": "markdown",
   "metadata": {}
  },
  {
   "cell_type": "code",
   "execution_count": 10,
   "metadata": {},
   "outputs": [
    {
     "output_type": "execute_result",
     "data": {
      "text/plain": [
       "array([ True])"
      ]
     },
     "metadata": {},
     "execution_count": 10
    }
   ],
   "source": [
    "from sklearn.linear_model import SGDClassifier\n",
    "# clasificador descenso del gradiente estocastico (se dice estocastico recae en aleatoriedad)\n",
    "sgd_clf = SGDClassifier(random_state=42) # parametro de aleatoriedad\n",
    "sgd_clf.fit(X_train, y_train_5)  # de las primeras 60000 imagenes...\n",
    "sgd_clf.predict([some_digit]) # ... predecir que la imagen representa un 5 (some digit es el array completo de la primera imagen)"
   ]
  },
  {
   "source": [
    "## Implementando Validacion Cruzada"
   ],
   "cell_type": "markdown",
   "metadata": {}
  },
  {
   "cell_type": "code",
   "execution_count": 11,
   "metadata": {},
   "outputs": [],
   "source": [
    "from sklearn.model_selection import StratifiedKFold\n",
    "from sklearn.base import clone"
   ]
  },
  {
   "cell_type": "code",
   "execution_count": 12,
   "metadata": {},
   "outputs": [],
   "source": [
    "#skfolds = StratifiedKFold(n_splits=3, random_state=42)\n",
    "\n",
    "#for train_index, test_index in skfolds.split(X_train, y_train_5):\n",
    "    #print(train_index)\n",
    "    #print(test_index)\n",
    " #  clone_clf = clone(sgd_clf)\n",
    "  # X_train_folds =   X_train[train_index]\n",
    "#   Y_train_folds =   y_train_5[train_index] \n",
    "\n",
    "# \n",
    "# Normalizacion de los datos de entrada antes de aplicar toCategorical\n",
    "#print(y_test[0])\n",
    "\n",
    "# Normalizacion de los datos de entrada despues de aplicar toCategorical\n",
    "#y_train = to_categorical(y_train, num_classes=10)\n",
    "#y_test  = to_categorical(y_test,  num_classes=10)\n",
    "#print(y_test[0])\n"
   ]
  },
  {
   "cell_type": "code",
   "execution_count": 13,
   "metadata": {},
   "outputs": [
    {
     "output_type": "execute_result",
     "data": {
      "text/plain": [
       "\"\\nlim_x, lim_y = (12,34)\\nfor i_x, i_y in (lim_x,lim_x):\\n    print('Mostrarme x: {}'.format(i_x)) \\n    print('Mostrarme y: {}'.format(i_y)) \\n    \""
      ]
     },
     "metadata": {},
     "execution_count": 13
    }
   ],
   "source": [
    "\"\"\"\n",
    "lim_x, lim_y = (12,34)\n",
    "for i_x, i_y in (lim_x,lim_x):\n",
    "    print('Mostrarme x: {}'.format(i_x)) \n",
    "    print('Mostrarme y: {}'.format(i_y)) \n",
    "    \"\"\""
   ]
  }
 ],
 "metadata": {
  "kernelspec": {
   "display_name": "Python 3",
   "language": "python",
   "name": "python3"
  },
  "language_info": {
   "codemirror_mode": {
    "name": "ipython",
    "version": 3
   },
   "file_extension": ".py",
   "mimetype": "text/x-python",
   "name": "python",
   "nbconvert_exporter": "python",
   "pygments_lexer": "ipython3",
   "version": "3.7.6-final"
  }
 },
 "nbformat": 4,
 "nbformat_minor": 4
}
{
 "cells": [
  {
   "cell_type": "code",
   "execution_count": 10,
   "metadata": {},
   "outputs": [
    {
     "name": "stdout",
     "output_type": "stream",
     "text": [
      " El volumen de la unidad C no tiene etiqueta.\n",
      " El número de serie del volumen es: 2E84-B77B\n",
      "\n",
      " Directorio de C:\\Users\\jnieto\\source\\jupiter\n",
      "\n",
      "08/07/2020  07:51    <DIR>          .\n",
      "08/07/2020  07:51    <DIR>          ..\n",
      "12/06/2020  08:16    <DIR>          .ipynb_checkpoints\n",
      "06/06/2020  13:43    <DIR>          20200606_001_practica01\n",
      "06/06/2020  16:39    <DIR>          20200606_002_practica02\n",
      "06/06/2020  16:35    <DIR>          20200606_juan_nieto\n",
      "13/06/2020  11:18    <DIR>          20200613_juan_nieto\n",
      "09/07/2020  10:05    <DIR>          20200620_pandas_matplotlib\n",
      "27/06/2020  12:16    <DIR>          20200624_001_practica01\n",
      "02/07/2020  20:36    <DIR>          20200624_002_practica02\n",
      "08/07/2020  07:54    <DIR>          20200627_scipy_scikitlearn\n",
      "26/06/2020  23:14    <DIR>          intro_numpy\n",
      "28/06/2020  00:05    <DIR>          intro_sympy\n",
      "20/06/2020  23:35    <DIR>          matplotlib\n",
      "07/07/2020  22:25    <DIR>          Pokemon\n",
      "27/06/2020  11:40    <DIR>          scikit\n",
      "27/06/2020  08:51    <DIR>          scipy\n",
      "12/06/2020  04:59    <DIR>          seaborn_tutorial\n",
      "               0 archivos              0 bytes\n",
      "              18 dirs  148,358,451,200 bytes libres\n"
     ]
    }
   ],
   "source": [
    "%ls"
   ]
  },
  {
   "cell_type": "code",
   "execution_count": 15,
   "metadata": {},
   "outputs": [
    {
     "data": {
      "text/plain": [
       "array([[1., 1., 1.],\n",
       "       [1., 1., 1.],\n",
       "       [1., 1., 1.]])"
      ]
     },
     "execution_count": 15,
     "metadata": {},
     "output_type": "execute_result"
    }
   ],
   "source": [
    "from scipy import io as spio\n",
    "import numpy as np\n",
    "\n",
    "a = np.ones((3, 3)) # matriz de 3x3 de unos\n",
    "spio.savemat('file.mat', {'a': a}) # se vuelca dictionary en el archivo (out)\n",
    "data = spio.loadmat('file.mat') # cargar archivo .mat (in)\n",
    "data['a']"
   ]
  },
  {
   "cell_type": "code",
   "execution_count": 17,
   "metadata": {},
   "outputs": [],
   "source": [
    "%matplotlib inline"
   ]
  },
  {
   "cell_type": "code",
   "execution_count": 34,
   "metadata": {},
   "outputs": [
    {
     "data": {
      "text/plain": [
       "array([[[161, 161, 161],\n",
       "        [208, 208, 208],\n",
       "        [210, 210, 210],\n",
       "        ...,\n",
       "        [209, 209, 209],\n",
       "        [209, 209, 209],\n",
       "        [154, 154, 154]],\n",
       "\n",
       "       [[204, 204, 204],\n",
       "        [251, 251, 251],\n",
       "        [253, 253, 253],\n",
       "        ...,\n",
       "        [253, 253, 253],\n",
       "        [253, 253, 253],\n",
       "        [254, 254, 254]],\n",
       "\n",
       "       [[206, 206, 206],\n",
       "        [252, 252, 252],\n",
       "        [255, 255, 255],\n",
       "        ...,\n",
       "        [255, 255, 255],\n",
       "        [255, 255, 255],\n",
       "        [254, 254, 254]],\n",
       "\n",
       "       ...,\n",
       "\n",
       "       [[192, 192, 192],\n",
       "        [248, 248, 248],\n",
       "        [247, 247, 247],\n",
       "        ...,\n",
       "        [255, 255, 255],\n",
       "        [255, 255, 255],\n",
       "        [255, 255, 255]],\n",
       "\n",
       "       [[183, 183, 183],\n",
       "        [245, 245, 245],\n",
       "        [248, 248, 248],\n",
       "        ...,\n",
       "        [255, 255, 255],\n",
       "        [255, 255, 255],\n",
       "        [255, 255, 255]],\n",
       "\n",
       "       [[176, 176, 176],\n",
       "        [243, 243, 243],\n",
       "        [251, 251, 251],\n",
       "        ...,\n",
       "        [255, 255, 255],\n",
       "        [255, 255, 255],\n",
       "        [255, 255, 255]]], dtype=uint8)"
      ]
     },
     "execution_count": 34,
     "metadata": {},
     "output_type": "execute_result"
    }
   ],
   "source": [
    "import matplotlib.pyplot as plt\n",
    "plt.imread('data/fname.jpg') # transforma la imagen en array de bytes\n"
   ]
  },
  {
   "cell_type": "code",
   "execution_count": 36,
   "metadata": {},
   "outputs": [],
   "source": [
    " # Calcular la determinante de una matriz cuadrática:"
   ]
  },
  {
   "cell_type": "code",
   "execution_count": 44,
   "metadata": {},
   "outputs": [
    {
     "data": {
      "text/plain": [
       "-2.0"
      ]
     },
     "execution_count": 44,
     "metadata": {},
     "output_type": "execute_result"
    }
   ],
   "source": [
    "from scipy import linalg\n",
    "arr = np.array([[1,2],\n",
    "                [3,4]],dtype='int32')\n",
    "linalg.det(arr)"
   ]
  },
  {
   "cell_type": "code",
   "execution_count": 47,
   "metadata": {},
   "outputs": [
    {
     "data": {
      "text/plain": [
       "array([[-2. ,  1. ],\n",
       "       [ 1.5, -0.5]])"
      ]
     },
     "execution_count": 47,
     "metadata": {},
     "output_type": "execute_result"
    }
   ],
   "source": [
    "arr = np.array([[1, 2],\n",
    "                [3, 4]])\n",
    "arr = linalg.inv(arr)\n",
    "arr"
   ]
  },
  {
   "cell_type": "code",
   "execution_count": 68,
   "metadata": {},
   "outputs": [
    {
     "data": {
      "text/plain": [
       "array([[0., 0., 0.],\n",
       "       [1., 0., 0.],\n",
       "       [0., 1., 0.]])"
      ]
     },
     "execution_count": 68,
     "metadata": {},
     "output_type": "execute_result"
    }
   ],
   "source": [
    "# [(A*A^-1)*np.eye[2]]\n",
    "np.eye(3,k=-1) # indice del diagonal"
   ]
  },
  {
   "cell_type": "code",
   "execution_count": 69,
   "metadata": {},
   "outputs": [
    {
     "data": {
      "text/plain": [
       "array([[1., 0.],\n",
       "       [0., 1.]])"
      ]
     },
     "execution_count": 69,
     "metadata": {},
     "output_type": "execute_result"
    }
   ],
   "source": [
    "np.eye(2) # diagonal 2x2"
   ]
  },
  {
   "cell_type": "code",
   "execution_count": 70,
   "metadata": {},
   "outputs": [
    {
     "data": {
      "text/plain": [
       "array([[0., 1., 0.],\n",
       "       [0., 0., 1.],\n",
       "       [0., 0., 0.]])"
      ]
     },
     "execution_count": 70,
     "metadata": {},
     "output_type": "execute_result"
    }
   ],
   "source": [
    "np.eye(3,k=1) # k indice del diagonal"
   ]
  },
  {
   "cell_type": "code",
   "execution_count": 83,
   "metadata": {},
   "outputs": [
    {
     "name": "stdout",
     "output_type": "stream",
     "text": [
      "singular matrix: Error al obtener la inversa de una matriz singular.\n"
     ]
    }
   ],
   "source": [
    "arr = ([[2,3],[4,6]])\n",
    "try:\n",
    "    linalg.inv(arr) #\n",
    "except Exception as e:\n",
    "    print(\"{0}: Error al obtener la inversa de una matriz singular.\" .format(str(e)))\n"
   ]
  },
  {
   "cell_type": "code",
   "execution_count": 73,
   "metadata": {},
   "outputs": [],
   "source": [
    "# Interpolaciones\n",
    "from scipy.interpolate import interp1d"
   ]
  }
 ],
 "metadata": {
  "kernelspec": {
   "display_name": "Python 3",
   "language": "python",
   "name": "python3"
  },
  "language_info": {
   "codemirror_mode": {
    "name": "ipython",
    "version": 3
   },
   "file_extension": ".py",
   "mimetype": "text/x-python",
   "name": "python",
   "nbconvert_exporter": "python",
   "pygments_lexer": "ipython3",
   "version": "3.7.6"
  }
 },
 "nbformat": 4,
 "nbformat_minor": 4
}

{
 "cells": [
  {
   "cell_type": "code",
   "execution_count": null,
   "metadata": {},
   "outputs": [],
   "source": [
    "import numpy as np\n",
    "\n",
    "x = np.linspace(0,20,100)\n",
    "for li in range(5):\n",
    "    plt.plot(x, special.jn(li,x))\n",
    "plt.grid(True)"
   ]
  },
  {
   "cell_type": "markdown",
   "metadata": {},
   "source": [
    "## Funciones especiales\n",
    "### Funcion de Raíz Cúbica"
   ]
  },
  {
   "cell_type": "code",
   "execution_count": 4,
   "metadata": {},
   "outputs": [
    {
     "name": "stdout",
     "output_type": "stream",
     "text": [
      "[2.15443469 2.08008382 0.50053277 6.16224015]\n"
     ]
    }
   ],
   "source": [
    "from scipy.special import cbrt\n",
    "res = cbrt([10,9,0.1254,234])\n",
    "print(res)"
   ]
  },
  {
   "cell_type": "markdown",
   "metadata": {},
   "source": [
    "### Funciones exponenciales"
   ]
  },
  {
   "cell_type": "code",
   "execution_count": 7,
   "metadata": {},
   "outputs": [
    {
     "name": "stdout",
     "output_type": "stream",
     "text": [
      "[1.e+02 1.e+09]\n"
     ]
    }
   ],
   "source": [
    "from scipy.special import exp10\n",
    "res = exp10([2,9])\n",
    "print(res)"
   ]
  },
  {
   "cell_type": "markdown",
   "metadata": {},
   "source": [
    "### Funciones exponenciales de error relativo"
   ]
  },
  {
   "cell_type": "code",
   "execution_count": 10,
   "metadata": {},
   "outputs": [
    {
     "name": "stdout",
     "output_type": "stream",
     "text": [
      "[1.00000000e+00 2.88019597e+09 9.51625820e-01 1.71828183e+00\n",
      " 1.05170918e+00 1.13610167e+00]\n"
     ]
    }
   ],
   "source": [
    "from scipy.special import exprel\n",
    "res = exprel([-0,25, -0.1, 1, 0.1, 0.25])\n",
    "print(res)"
   ]
  },
  {
   "cell_type": "markdown",
   "metadata": {},
   "source": [
    "### Función exponencial de suma registo"
   ]
  },
  {
   "cell_type": "code",
   "execution_count": 12,
   "metadata": {},
   "outputs": [
    {
     "name": "stdout",
     "output_type": "stream",
     "text": [
      "9.45862974442671\n"
     ]
    }
   ],
   "source": [
    "from scipy.special import logsumexp\n",
    "import numpy as  np\n",
    "a = np.arange(10)\n",
    "res = logsumexp(a)\n",
    "print(res)"
   ]
  },
  {
   "cell_type": "code",
   "execution_count": 13,
   "metadata": {},
   "outputs": [
    {
     "name": "stdout",
     "output_type": "stream",
     "text": [
      "(0.5671432904097838+0j)\n"
     ]
    }
   ],
   "source": [
    "from scipy.special import lambertw\n",
    "w = lambertw(1)\n",
    "print(w)"
   ]
  },
  {
   "cell_type": "code",
   "execution_count": 15,
   "metadata": {},
   "outputs": [
    {
     "name": "stdout",
     "output_type": "stream",
     "text": [
      "(0.9999999999999999+0j)\n"
     ]
    }
   ],
   "source": [
    "print(w*np.exp(w))"
   ]
  },
  {
   "cell_type": "markdown",
   "metadata": {},
   "source": [
    "### Permutaciones y combinaciones"
   ]
  },
  {
   "cell_type": "code",
   "execution_count": 17,
   "metadata": {},
   "outputs": [
    {
     "name": "stdout",
     "output_type": "stream",
     "text": [
      "220.0\n"
     ]
    }
   ],
   "source": [
    "from scipy.special import comb\n",
    "res = comb(10,3,exact=False, repetition = True)\n",
    "print(res)"
   ]
  },
  {
   "cell_type": "code",
   "execution_count": 19,
   "metadata": {},
   "outputs": [],
   "source": [
    "# Los argumentos de matriz solo se aceptan para el caso exacto = Falso. \n",
    "# Si k>N, N<0 o k<0, se devuelve un 0"
   ]
  },
  {
   "cell_type": "code",
   "execution_count": 23,
   "metadata": {},
   "outputs": [
    {
     "name": "stdout",
     "output_type": "stream",
     "text": [
      "220.0\n"
     ]
    }
   ],
   "source": [
    "from scipy.special import perm\n",
    "rest = perm(10,3, exact=True)\n",
    "print(res)\n"
   ]
  },
  {
   "cell_type": "code",
   "execution_count": 24,
   "metadata": {},
   "outputs": [
    {
     "name": "stdout",
     "output_type": "stream",
     "text": [
      "[        inf  1.77245385  1.         24.        ]\n"
     ]
    }
   ],
   "source": [
    "from scipy.special import gamma\n",
    "res = gamma([0, 0.5, 1,5])\n",
    "print(res)"
   ]
  },
  {
   "cell_type": "markdown",
   "metadata": {},
   "source": [
    "## Cálculo de integrales"
   ]
  },
  {
   "cell_type": "code",
   "execution_count": 26,
   "metadata": {},
   "outputs": [],
   "source": [
    "import numpy as  np\n",
    "import matplotlib.pyplot as plt\n",
    "plt.ion()"
   ]
  },
  {
   "cell_type": "markdown",
   "metadata": {},
   "source": [
    "### Scipy.integrate"
   ]
  },
  {
   "cell_type": "code",
   "execution_count": 29,
   "metadata": {},
   "outputs": [],
   "source": [
    "from scipy import integrate\n",
    "from scipy.integrate import quad\n",
    "# ayuda para un funcion. e.g. quad\n",
    "# help(quad)"
   ]
  },
  {
   "cell_type": "markdown",
   "metadata": {},
   "source": [
    "### Ejercicio quad"
   ]
  },
  {
   "cell_type": "markdown",
   "metadata": {},
   "source": [
    "$\\ y = x.sin(x) $  "
   ]
  },
  {
   "cell_type": "code",
   "execution_count": 45,
   "metadata": {},
   "outputs": [],
   "source": [
    "# generar la x y la y\n",
    "def fun(x):\n",
    "    return x*np.sin(x)\n",
    "\n",
    "x = np.linspace(0,10,100)\n",
    "y = fun(x)"
   ]
  },
  {
   "cell_type": "code",
   "execution_count": 50,
   "metadata": {},
   "outputs": [],
   "source": [
    "# titulo\n",
    "plt.title('$y = sin(x)$',fontsize = 25)\n",
    "\n",
    "# pintando la linea\n",
    "plt.plot(x,y,linewidth=2)\n",
    "\n",
    "# pintando el relleno\n",
    "x_fill = x\n",
    "y_fill = fun(x)\n",
    "plt.fill_between(x_fill, y_fill,color='gray',alpha=0.5)\n",
    "\n",
    "#pintando una cuadricula\n",
    "plt.grid()"
   ]
  },
  {
   "cell_type": "code",
   "execution_count": null,
   "metadata": {},
   "outputs": [],
   "source": []
  },
  {
   "cell_type": "markdown",
   "metadata": {},
   "source": [
    "# Ahora integramos con quad"
   ]
  },
  {
   "cell_type": "markdown",
   "metadata": {},
   "source": [
    "## Nota integramos la funcion en el intervalo [2,9]. Recuerda que esto va a calcular la integral y no el area"
   ]
  },
  {
   "cell_type": "code",
   "execution_count": null,
   "metadata": {},
   "outputs": [],
   "source": [
    "value, err = quad(fun, 2, 9)\n",
    "print(\"El resultado es: \",value,\" con un error de \", err)"
   ]
  },
  {
   "cell_type": "markdown",
   "metadata": {},
   "source": [
    "## Simpson y trapecio"
   ]
  },
  {
   "cell_type": "markdown",
   "metadata": {},
   "source": [
    "## Estadistica con scipy"
   ]
  },
  {
   "cell_type": "code",
   "execution_count": null,
   "metadata": {},
   "outputs": [],
   "source": [
    "import numpy as np\n",
    "%matplotlib inline\n",
    "import matplotlib.pyplot as plt"
   ]
  }
 ],
 "metadata": {
  "kernelspec": {
   "display_name": "Python 3",
   "language": "python",
   "name": "python3"
  },
  "language_info": {
   "codemirror_mode": {
    "name": "ipython",
    "version": 3
   },
   "file_extension": ".py",
   "mimetype": "text/x-python",
   "name": "python",
   "nbconvert_exporter": "python",
   "pygments_lexer": "ipython3",
   "version": "3.7.6"
  }
 },
 "nbformat": 4,
 "nbformat_minor": 4
}

{
 "cells": [
  {
   "cell_type": "code",
   "execution_count": 7,
   "metadata": {},
   "outputs": [],
   "source": [
    "# bibliotecas, modulos requeridos\n",
    "import numpy  as np\n",
    "# from IPython.display import HTML\n",
    "# from sympy import *\n",
    "# import pandas as pd\n",
    "import matplotlib.pyplot as plt"
   ]
  },
  {
   "cell_type": "code",
   "execution_count": null,
   "metadata": {},
   "outputs": [],
   "source": [
    "\"\"\"\n",
    "1. Generar una matriz de 7 columnas por 9 filas.\n",
    "a. Las primeras 3 columnas de la matriz tienen que tener el valor 0.\n",
    "b. La cuarta columna debe tener el valor 0.5, excepto por el último valor de esa columna, que\n",
    "tiene que ser 0.7.\n",
    "c. Las otras tres columnas deben tener el valor 1.\n",
    "d. Imprimir también el promedio de la última fila\n",
    "\"\"\""
   ]
  },
  {
   "cell_type": "code",
   "execution_count": 18,
   "metadata": {},
   "outputs": [
    {
     "data": {
      "text/plain": [
       "array([[0. , 0. , 0. , 0.5, 1. , 1. , 1. ],\n",
       "       [0. , 0. , 0. , 0.5, 1. , 1. , 1. ],\n",
       "       [0. , 0. , 0. , 0.5, 1. , 1. , 1. ],\n",
       "       [0. , 0. , 0. , 0.5, 1. , 1. , 1. ],\n",
       "       [0. , 0. , 0. , 0.5, 1. , 1. , 1. ],\n",
       "       [0. , 0. , 0. , 0.5, 1. , 1. , 1. ],\n",
       "       [0. , 0. , 0. , 0.5, 1. , 1. , 1. ],\n",
       "       [0. , 0. , 0. , 0.5, 1. , 1. , 1. ],\n",
       "       [0. , 0. , 0. , 0.7, 1. , 1. , 1. ]])"
      ]
     },
     "execution_count": 18,
     "metadata": {},
     "output_type": "execute_result"
    }
   ],
   "source": [
    "M = np.zeros([3,9],dtype='int32') \n",
    "N = np.ones([1,9],dtype='int32')*0.5 \n",
    "P = np.ones([3,9],dtype='int32') \n",
    "#M,N,P\n",
    "Z = np.concatenate((M,N,P))\n",
    "Z = np.rot90(Z)\n",
    "Z[8,3] = 0.7 # Z[(9-1,4-1)] , 9 fila, 4ta columna\n",
    "Z"
   ]
  },
  {
   "cell_type": "code",
   "execution_count": 64,
   "metadata": {
    "scrolled": false
   },
   "outputs": [
    {
     "data": {
      "text/plain": [
       "0.5285714285714286"
      ]
     },
     "execution_count": 64,
     "metadata": {},
     "output_type": "execute_result"
    }
   ],
   "source": [
    "# promedio de la ultima fila\n",
    "avg_last_row = np.average(Z,axis=1,weights=None)[8]\n",
    "avg_last_row\n"
   ]
  },
  {
   "cell_type": "code",
   "execution_count": null,
   "metadata": {
    "scrolled": false
   },
   "outputs": [],
   "source": [
    "\"\"\"\n",
    "2. Crear 2 matrices de 5 x 5 con números enteros aleatorios desde el 1 al 10.\n",
    "    a. Imprimir ambas matrices.\n",
    "    b. Imprimir una tercer matiza que contenga 0 o 1 en los espacios, estos valores serán llenados\n",
    "de la evaluación de igualdad de los valores de los campos anteriores (0 si son diferentes y 1 si\n",
    "son iguales). \"\"\""
   ]
  },
  {
   "cell_type": "code",
   "execution_count": 117,
   "metadata": {},
   "outputs": [
    {
     "data": {
      "text/plain": [
       "array([[ 1,  9,  3,  5,  6],\n",
       "       [ 9,  1,  8,  6,  2],\n",
       "       [ 3,  3,  2,  9,  7],\n",
       "       [ 1,  1,  3,  9,  7],\n",
       "       [10,  5, 10,  7,  6]], dtype=int64)"
      ]
     },
     "execution_count": 117,
     "metadata": {},
     "output_type": "execute_result"
    }
   ],
   "source": [
    "from numpy.random import default_rng\n",
    "rng = default_rng()\n",
    "a = rng.integers(1,high=10, size=(5, 5),dtype='int64',endpoint=True)\n",
    "b = rng.integers(1,high=10, size=(5, 5),dtype='int64',endpoint=True)\n",
    "a"
   ]
  },
  {
   "cell_type": "code",
   "execution_count": 119,
   "metadata": {},
   "outputs": [
    {
     "data": {
      "text/plain": [
       "array([[ 8,  7,  2,  9,  4],\n",
       "       [ 4, 10,  2,  9,  5],\n",
       "       [ 2,  8,  1,  5,  6],\n",
       "       [ 2,  3,  3,  2,  6],\n",
       "       [10,  3,  2,  7,  1]], dtype=int64)"
      ]
     },
     "execution_count": 119,
     "metadata": {},
     "output_type": "execute_result"
    }
   ],
   "source": [
    "b"
   ]
  },
  {
   "cell_type": "code",
   "execution_count": 128,
   "metadata": {},
   "outputs": [
    {
     "data": {
      "text/plain": [
       "array([[False, False, False, False, False],\n",
       "       [False, False, False, False, False],\n",
       "       [False, False, False, False, False],\n",
       "       [False, False,  True, False, False],\n",
       "       [ True, False, False,  True, False]])"
      ]
     },
     "execution_count": 128,
     "metadata": {},
     "output_type": "execute_result"
    }
   ],
   "source": [
    "z= a==b\n",
    "z"
   ]
  },
  {
   "cell_type": "code",
   "execution_count": 130,
   "metadata": {},
   "outputs": [
    {
     "data": {
      "text/plain": [
       "array([[0, 0, 0, 0, 0],\n",
       "       [0, 0, 0, 0, 0],\n",
       "       [0, 0, 0, 0, 0],\n",
       "       [0, 0, 1, 0, 0],\n",
       "       [1, 0, 0, 1, 0]])"
      ]
     },
     "execution_count": 130,
     "metadata": {},
     "output_type": "execute_result"
    }
   ],
   "source": [
    "z = np.array(z, dtype=int)\n",
    "z"
   ]
  },
  {
   "cell_type": "code",
   "execution_count": null,
   "metadata": {},
   "outputs": [],
   "source": []
  }
 ],
 "metadata": {
  "kernelspec": {
   "display_name": "Python 3",
   "language": "python",
   "name": "python3"
  },
  "language_info": {
   "codemirror_mode": {
    "name": "ipython",
    "version": 3
   },
   "file_extension": ".py",
   "mimetype": "text/x-python",
   "name": "python",
   "nbconvert_exporter": "python",
   "pygments_lexer": "ipython3",
   "version": "3.7.6"
  }
 },
 "nbformat": 4,
 "nbformat_minor": 4
}
